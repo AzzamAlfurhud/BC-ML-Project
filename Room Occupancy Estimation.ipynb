{
 "cells": [
  {
   "cell_type": "code",
   "execution_count": 1,
   "id": "7a819ddf",
   "metadata": {},
   "outputs": [],
   "source": [
    "import pandas as pd\n",
    "import numpy as np\n",
    "import matplotlib as plt\n",
    "import seaborn as sns"
   ]
  },
  {
   "cell_type": "code",
   "execution_count": 2,
   "id": "5e26912e",
   "metadata": {},
   "outputs": [
    {
     "data": {
      "text/html": [
       "<div>\n",
       "<style scoped>\n",
       "    .dataframe tbody tr th:only-of-type {\n",
       "        vertical-align: middle;\n",
       "    }\n",
       "\n",
       "    .dataframe tbody tr th {\n",
       "        vertical-align: top;\n",
       "    }\n",
       "\n",
       "    .dataframe thead th {\n",
       "        text-align: right;\n",
       "    }\n",
       "</style>\n",
       "<table border=\"1\" class=\"dataframe\">\n",
       "  <thead>\n",
       "    <tr style=\"text-align: right;\">\n",
       "      <th></th>\n",
       "      <th>Date</th>\n",
       "      <th>Time</th>\n",
       "      <th>S1_Temp</th>\n",
       "      <th>S2_Temp</th>\n",
       "      <th>S3_Temp</th>\n",
       "      <th>S4_Temp</th>\n",
       "      <th>S1_Light</th>\n",
       "      <th>S2_Light</th>\n",
       "      <th>S3_Light</th>\n",
       "      <th>S4_Light</th>\n",
       "      <th>S1_Sound</th>\n",
       "      <th>S2_Sound</th>\n",
       "      <th>S3_Sound</th>\n",
       "      <th>S4_Sound</th>\n",
       "      <th>S5_CO2</th>\n",
       "      <th>S5_CO2_Slope</th>\n",
       "      <th>S6_PIR</th>\n",
       "      <th>S7_PIR</th>\n",
       "      <th>Room_Occupancy_Count</th>\n",
       "    </tr>\n",
       "  </thead>\n",
       "  <tbody>\n",
       "    <tr>\n",
       "      <th>0</th>\n",
       "      <td>2017/12/22</td>\n",
       "      <td>10:49:41</td>\n",
       "      <td>24.94</td>\n",
       "      <td>24.75</td>\n",
       "      <td>24.56</td>\n",
       "      <td>25.38</td>\n",
       "      <td>121</td>\n",
       "      <td>34</td>\n",
       "      <td>53</td>\n",
       "      <td>40</td>\n",
       "      <td>0.08</td>\n",
       "      <td>0.19</td>\n",
       "      <td>0.06</td>\n",
       "      <td>0.06</td>\n",
       "      <td>390</td>\n",
       "      <td>0.769231</td>\n",
       "      <td>0</td>\n",
       "      <td>0</td>\n",
       "      <td>1</td>\n",
       "    </tr>\n",
       "    <tr>\n",
       "      <th>1</th>\n",
       "      <td>2017/12/22</td>\n",
       "      <td>10:50:12</td>\n",
       "      <td>24.94</td>\n",
       "      <td>24.75</td>\n",
       "      <td>24.56</td>\n",
       "      <td>25.44</td>\n",
       "      <td>121</td>\n",
       "      <td>33</td>\n",
       "      <td>53</td>\n",
       "      <td>40</td>\n",
       "      <td>0.93</td>\n",
       "      <td>0.05</td>\n",
       "      <td>0.06</td>\n",
       "      <td>0.06</td>\n",
       "      <td>390</td>\n",
       "      <td>0.646154</td>\n",
       "      <td>0</td>\n",
       "      <td>0</td>\n",
       "      <td>1</td>\n",
       "    </tr>\n",
       "    <tr>\n",
       "      <th>2</th>\n",
       "      <td>2017/12/22</td>\n",
       "      <td>10:50:42</td>\n",
       "      <td>25.00</td>\n",
       "      <td>24.75</td>\n",
       "      <td>24.50</td>\n",
       "      <td>25.44</td>\n",
       "      <td>121</td>\n",
       "      <td>34</td>\n",
       "      <td>53</td>\n",
       "      <td>40</td>\n",
       "      <td>0.43</td>\n",
       "      <td>0.11</td>\n",
       "      <td>0.08</td>\n",
       "      <td>0.06</td>\n",
       "      <td>390</td>\n",
       "      <td>0.519231</td>\n",
       "      <td>0</td>\n",
       "      <td>0</td>\n",
       "      <td>1</td>\n",
       "    </tr>\n",
       "    <tr>\n",
       "      <th>3</th>\n",
       "      <td>2017/12/22</td>\n",
       "      <td>10:51:13</td>\n",
       "      <td>25.00</td>\n",
       "      <td>24.75</td>\n",
       "      <td>24.56</td>\n",
       "      <td>25.44</td>\n",
       "      <td>121</td>\n",
       "      <td>34</td>\n",
       "      <td>53</td>\n",
       "      <td>40</td>\n",
       "      <td>0.41</td>\n",
       "      <td>0.10</td>\n",
       "      <td>0.10</td>\n",
       "      <td>0.09</td>\n",
       "      <td>390</td>\n",
       "      <td>0.388462</td>\n",
       "      <td>0</td>\n",
       "      <td>0</td>\n",
       "      <td>1</td>\n",
       "    </tr>\n",
       "    <tr>\n",
       "      <th>4</th>\n",
       "      <td>2017/12/22</td>\n",
       "      <td>10:51:44</td>\n",
       "      <td>25.00</td>\n",
       "      <td>24.75</td>\n",
       "      <td>24.56</td>\n",
       "      <td>25.44</td>\n",
       "      <td>121</td>\n",
       "      <td>34</td>\n",
       "      <td>54</td>\n",
       "      <td>40</td>\n",
       "      <td>0.18</td>\n",
       "      <td>0.06</td>\n",
       "      <td>0.06</td>\n",
       "      <td>0.06</td>\n",
       "      <td>390</td>\n",
       "      <td>0.253846</td>\n",
       "      <td>0</td>\n",
       "      <td>0</td>\n",
       "      <td>1</td>\n",
       "    </tr>\n",
       "  </tbody>\n",
       "</table>\n",
       "</div>"
      ],
      "text/plain": [
       "         Date      Time  S1_Temp  S2_Temp  S3_Temp  S4_Temp  S1_Light  \\\n",
       "0  2017/12/22  10:49:41    24.94    24.75    24.56    25.38       121   \n",
       "1  2017/12/22  10:50:12    24.94    24.75    24.56    25.44       121   \n",
       "2  2017/12/22  10:50:42    25.00    24.75    24.50    25.44       121   \n",
       "3  2017/12/22  10:51:13    25.00    24.75    24.56    25.44       121   \n",
       "4  2017/12/22  10:51:44    25.00    24.75    24.56    25.44       121   \n",
       "\n",
       "   S2_Light  S3_Light  S4_Light  S1_Sound  S2_Sound  S3_Sound  S4_Sound  \\\n",
       "0        34        53        40      0.08      0.19      0.06      0.06   \n",
       "1        33        53        40      0.93      0.05      0.06      0.06   \n",
       "2        34        53        40      0.43      0.11      0.08      0.06   \n",
       "3        34        53        40      0.41      0.10      0.10      0.09   \n",
       "4        34        54        40      0.18      0.06      0.06      0.06   \n",
       "\n",
       "   S5_CO2  S5_CO2_Slope  S6_PIR  S7_PIR  Room_Occupancy_Count  \n",
       "0     390      0.769231       0       0                     1  \n",
       "1     390      0.646154       0       0                     1  \n",
       "2     390      0.519231       0       0                     1  \n",
       "3     390      0.388462       0       0                     1  \n",
       "4     390      0.253846       0       0                     1  "
      ]
     },
     "execution_count": 2,
     "metadata": {},
     "output_type": "execute_result"
    }
   ],
   "source": [
    "df = pd.read_csv('Occupancy_Estimation.csv')\n",
    "df.head()"
   ]
  },
  {
   "cell_type": "code",
   "execution_count": 3,
   "id": "5fbfeb7d",
   "metadata": {},
   "outputs": [
    {
     "data": {
      "text/plain": [
       "Index(['Date', 'Time', 'S1_Temp', 'S2_Temp', 'S3_Temp', 'S4_Temp', 'S1_Light',\n",
       "       'S2_Light', 'S3_Light', 'S4_Light', 'S1_Sound', 'S2_Sound', 'S3_Sound',\n",
       "       'S4_Sound', 'S5_CO2', 'S5_CO2_Slope', 'S6_PIR', 'S7_PIR',\n",
       "       'Room_Occupancy_Count'],\n",
       "      dtype='object')"
      ]
     },
     "execution_count": 3,
     "metadata": {},
     "output_type": "execute_result"
    }
   ],
   "source": [
    "df.columns"
   ]
  },
  {
   "cell_type": "code",
   "execution_count": 4,
   "id": "38ef329b",
   "metadata": {},
   "outputs": [
    {
     "name": "stdout",
     "output_type": "stream",
     "text": [
      "<class 'pandas.core.frame.DataFrame'>\n",
      "RangeIndex: 10129 entries, 0 to 10128\n",
      "Data columns (total 19 columns):\n",
      " #   Column                Non-Null Count  Dtype  \n",
      "---  ------                --------------  -----  \n",
      " 0   Date                  10129 non-null  object \n",
      " 1   Time                  10129 non-null  object \n",
      " 2   S1_Temp               10129 non-null  float64\n",
      " 3   S2_Temp               10129 non-null  float64\n",
      " 4   S3_Temp               10129 non-null  float64\n",
      " 5   S4_Temp               10129 non-null  float64\n",
      " 6   S1_Light              10129 non-null  int64  \n",
      " 7   S2_Light              10129 non-null  int64  \n",
      " 8   S3_Light              10129 non-null  int64  \n",
      " 9   S4_Light              10129 non-null  int64  \n",
      " 10  S1_Sound              10129 non-null  float64\n",
      " 11  S2_Sound              10129 non-null  float64\n",
      " 12  S3_Sound              10129 non-null  float64\n",
      " 13  S4_Sound              10129 non-null  float64\n",
      " 14  S5_CO2                10129 non-null  int64  \n",
      " 15  S5_CO2_Slope          10129 non-null  float64\n",
      " 16  S6_PIR                10129 non-null  int64  \n",
      " 17  S7_PIR                10129 non-null  int64  \n",
      " 18  Room_Occupancy_Count  10129 non-null  int64  \n",
      "dtypes: float64(9), int64(8), object(2)\n",
      "memory usage: 1.5+ MB\n"
     ]
    }
   ],
   "source": [
    "df.info()"
   ]
  },
  {
   "cell_type": "code",
   "execution_count": 5,
   "id": "2839e92b",
   "metadata": {},
   "outputs": [
    {
     "data": {
      "text/html": [
       "<div>\n",
       "<style scoped>\n",
       "    .dataframe tbody tr th:only-of-type {\n",
       "        vertical-align: middle;\n",
       "    }\n",
       "\n",
       "    .dataframe tbody tr th {\n",
       "        vertical-align: top;\n",
       "    }\n",
       "\n",
       "    .dataframe thead th {\n",
       "        text-align: right;\n",
       "    }\n",
       "</style>\n",
       "<table border=\"1\" class=\"dataframe\">\n",
       "  <thead>\n",
       "    <tr style=\"text-align: right;\">\n",
       "      <th></th>\n",
       "      <th>S1_Temp</th>\n",
       "      <th>S2_Temp</th>\n",
       "      <th>S3_Temp</th>\n",
       "      <th>S4_Temp</th>\n",
       "      <th>S1_Light</th>\n",
       "      <th>S2_Light</th>\n",
       "      <th>S3_Light</th>\n",
       "      <th>S4_Light</th>\n",
       "      <th>S1_Sound</th>\n",
       "      <th>S2_Sound</th>\n",
       "      <th>S3_Sound</th>\n",
       "      <th>S4_Sound</th>\n",
       "      <th>S5_CO2</th>\n",
       "      <th>S5_CO2_Slope</th>\n",
       "      <th>S6_PIR</th>\n",
       "      <th>S7_PIR</th>\n",
       "      <th>Room_Occupancy_Count</th>\n",
       "    </tr>\n",
       "  </thead>\n",
       "  <tbody>\n",
       "    <tr>\n",
       "      <th>count</th>\n",
       "      <td>10129.000000</td>\n",
       "      <td>10129.000000</td>\n",
       "      <td>10129.000000</td>\n",
       "      <td>10129.000000</td>\n",
       "      <td>10129.000000</td>\n",
       "      <td>10129.00000</td>\n",
       "      <td>10129.000000</td>\n",
       "      <td>10129.000000</td>\n",
       "      <td>10129.000000</td>\n",
       "      <td>10129.000000</td>\n",
       "      <td>10129.000000</td>\n",
       "      <td>10129.000000</td>\n",
       "      <td>10129.000000</td>\n",
       "      <td>10129.000000</td>\n",
       "      <td>10129.000000</td>\n",
       "      <td>10129.000000</td>\n",
       "      <td>10129.000000</td>\n",
       "    </tr>\n",
       "    <tr>\n",
       "      <th>mean</th>\n",
       "      <td>25.454012</td>\n",
       "      <td>25.546059</td>\n",
       "      <td>25.056621</td>\n",
       "      <td>25.754125</td>\n",
       "      <td>25.445059</td>\n",
       "      <td>26.01629</td>\n",
       "      <td>34.248494</td>\n",
       "      <td>13.220259</td>\n",
       "      <td>0.168178</td>\n",
       "      <td>0.120066</td>\n",
       "      <td>0.158119</td>\n",
       "      <td>0.103840</td>\n",
       "      <td>460.860401</td>\n",
       "      <td>-0.004830</td>\n",
       "      <td>0.090137</td>\n",
       "      <td>0.079574</td>\n",
       "      <td>0.398559</td>\n",
       "    </tr>\n",
       "    <tr>\n",
       "      <th>std</th>\n",
       "      <td>0.351351</td>\n",
       "      <td>0.586325</td>\n",
       "      <td>0.427283</td>\n",
       "      <td>0.356434</td>\n",
       "      <td>51.011264</td>\n",
       "      <td>67.30417</td>\n",
       "      <td>58.400744</td>\n",
       "      <td>19.602219</td>\n",
       "      <td>0.316709</td>\n",
       "      <td>0.266503</td>\n",
       "      <td>0.413637</td>\n",
       "      <td>0.120683</td>\n",
       "      <td>199.964940</td>\n",
       "      <td>1.164990</td>\n",
       "      <td>0.286392</td>\n",
       "      <td>0.270645</td>\n",
       "      <td>0.893633</td>\n",
       "    </tr>\n",
       "    <tr>\n",
       "      <th>min</th>\n",
       "      <td>24.940000</td>\n",
       "      <td>24.750000</td>\n",
       "      <td>24.440000</td>\n",
       "      <td>24.940000</td>\n",
       "      <td>0.000000</td>\n",
       "      <td>0.00000</td>\n",
       "      <td>0.000000</td>\n",
       "      <td>0.000000</td>\n",
       "      <td>0.060000</td>\n",
       "      <td>0.040000</td>\n",
       "      <td>0.040000</td>\n",
       "      <td>0.050000</td>\n",
       "      <td>345.000000</td>\n",
       "      <td>-6.296154</td>\n",
       "      <td>0.000000</td>\n",
       "      <td>0.000000</td>\n",
       "      <td>0.000000</td>\n",
       "    </tr>\n",
       "    <tr>\n",
       "      <th>25%</th>\n",
       "      <td>25.190000</td>\n",
       "      <td>25.190000</td>\n",
       "      <td>24.690000</td>\n",
       "      <td>25.440000</td>\n",
       "      <td>0.000000</td>\n",
       "      <td>0.00000</td>\n",
       "      <td>0.000000</td>\n",
       "      <td>0.000000</td>\n",
       "      <td>0.070000</td>\n",
       "      <td>0.050000</td>\n",
       "      <td>0.060000</td>\n",
       "      <td>0.060000</td>\n",
       "      <td>355.000000</td>\n",
       "      <td>-0.046154</td>\n",
       "      <td>0.000000</td>\n",
       "      <td>0.000000</td>\n",
       "      <td>0.000000</td>\n",
       "    </tr>\n",
       "    <tr>\n",
       "      <th>50%</th>\n",
       "      <td>25.380000</td>\n",
       "      <td>25.380000</td>\n",
       "      <td>24.940000</td>\n",
       "      <td>25.750000</td>\n",
       "      <td>0.000000</td>\n",
       "      <td>0.00000</td>\n",
       "      <td>0.000000</td>\n",
       "      <td>0.000000</td>\n",
       "      <td>0.080000</td>\n",
       "      <td>0.050000</td>\n",
       "      <td>0.060000</td>\n",
       "      <td>0.080000</td>\n",
       "      <td>360.000000</td>\n",
       "      <td>0.000000</td>\n",
       "      <td>0.000000</td>\n",
       "      <td>0.000000</td>\n",
       "      <td>0.000000</td>\n",
       "    </tr>\n",
       "    <tr>\n",
       "      <th>75%</th>\n",
       "      <td>25.630000</td>\n",
       "      <td>25.630000</td>\n",
       "      <td>25.380000</td>\n",
       "      <td>26.000000</td>\n",
       "      <td>12.000000</td>\n",
       "      <td>14.00000</td>\n",
       "      <td>50.000000</td>\n",
       "      <td>22.000000</td>\n",
       "      <td>0.080000</td>\n",
       "      <td>0.060000</td>\n",
       "      <td>0.070000</td>\n",
       "      <td>0.100000</td>\n",
       "      <td>465.000000</td>\n",
       "      <td>0.000000</td>\n",
       "      <td>0.000000</td>\n",
       "      <td>0.000000</td>\n",
       "      <td>0.000000</td>\n",
       "    </tr>\n",
       "    <tr>\n",
       "      <th>max</th>\n",
       "      <td>26.380000</td>\n",
       "      <td>29.000000</td>\n",
       "      <td>26.190000</td>\n",
       "      <td>26.560000</td>\n",
       "      <td>165.000000</td>\n",
       "      <td>258.00000</td>\n",
       "      <td>280.000000</td>\n",
       "      <td>74.000000</td>\n",
       "      <td>3.880000</td>\n",
       "      <td>3.440000</td>\n",
       "      <td>3.670000</td>\n",
       "      <td>3.400000</td>\n",
       "      <td>1270.000000</td>\n",
       "      <td>8.980769</td>\n",
       "      <td>1.000000</td>\n",
       "      <td>1.000000</td>\n",
       "      <td>3.000000</td>\n",
       "    </tr>\n",
       "  </tbody>\n",
       "</table>\n",
       "</div>"
      ],
      "text/plain": [
       "            S1_Temp       S2_Temp       S3_Temp       S4_Temp      S1_Light  \\\n",
       "count  10129.000000  10129.000000  10129.000000  10129.000000  10129.000000   \n",
       "mean      25.454012     25.546059     25.056621     25.754125     25.445059   \n",
       "std        0.351351      0.586325      0.427283      0.356434     51.011264   \n",
       "min       24.940000     24.750000     24.440000     24.940000      0.000000   \n",
       "25%       25.190000     25.190000     24.690000     25.440000      0.000000   \n",
       "50%       25.380000     25.380000     24.940000     25.750000      0.000000   \n",
       "75%       25.630000     25.630000     25.380000     26.000000     12.000000   \n",
       "max       26.380000     29.000000     26.190000     26.560000    165.000000   \n",
       "\n",
       "          S2_Light      S3_Light      S4_Light      S1_Sound      S2_Sound  \\\n",
       "count  10129.00000  10129.000000  10129.000000  10129.000000  10129.000000   \n",
       "mean      26.01629     34.248494     13.220259      0.168178      0.120066   \n",
       "std       67.30417     58.400744     19.602219      0.316709      0.266503   \n",
       "min        0.00000      0.000000      0.000000      0.060000      0.040000   \n",
       "25%        0.00000      0.000000      0.000000      0.070000      0.050000   \n",
       "50%        0.00000      0.000000      0.000000      0.080000      0.050000   \n",
       "75%       14.00000     50.000000     22.000000      0.080000      0.060000   \n",
       "max      258.00000    280.000000     74.000000      3.880000      3.440000   \n",
       "\n",
       "           S3_Sound      S4_Sound        S5_CO2  S5_CO2_Slope        S6_PIR  \\\n",
       "count  10129.000000  10129.000000  10129.000000  10129.000000  10129.000000   \n",
       "mean       0.158119      0.103840    460.860401     -0.004830      0.090137   \n",
       "std        0.413637      0.120683    199.964940      1.164990      0.286392   \n",
       "min        0.040000      0.050000    345.000000     -6.296154      0.000000   \n",
       "25%        0.060000      0.060000    355.000000     -0.046154      0.000000   \n",
       "50%        0.060000      0.080000    360.000000      0.000000      0.000000   \n",
       "75%        0.070000      0.100000    465.000000      0.000000      0.000000   \n",
       "max        3.670000      3.400000   1270.000000      8.980769      1.000000   \n",
       "\n",
       "             S7_PIR  Room_Occupancy_Count  \n",
       "count  10129.000000          10129.000000  \n",
       "mean       0.079574              0.398559  \n",
       "std        0.270645              0.893633  \n",
       "min        0.000000              0.000000  \n",
       "25%        0.000000              0.000000  \n",
       "50%        0.000000              0.000000  \n",
       "75%        0.000000              0.000000  \n",
       "max        1.000000              3.000000  "
      ]
     },
     "execution_count": 5,
     "metadata": {},
     "output_type": "execute_result"
    }
   ],
   "source": [
    "df.describe()"
   ]
  },
  {
   "cell_type": "code",
   "execution_count": 6,
   "id": "7b5275a3",
   "metadata": {},
   "outputs": [
    {
     "data": {
      "text/plain": [
       "0    8228\n",
       "2     748\n",
       "3     694\n",
       "1     459\n",
       "Name: Room_Occupancy_Count, dtype: int64"
      ]
     },
     "execution_count": 6,
     "metadata": {},
     "output_type": "execute_result"
    }
   ],
   "source": [
    "df.Room_Occupancy_Count.value_counts()"
   ]
  },
  {
   "cell_type": "code",
   "execution_count": 7,
   "id": "91032bff",
   "metadata": {},
   "outputs": [],
   "source": [
    "DateTimeConc = df['Date'] + ' ' + df['Time']\n",
    "df['DateTime'] = pd.to_datetime(DateTimeConc)"
   ]
  },
  {
   "cell_type": "code",
   "execution_count": 8,
   "id": "bbfcd277",
   "metadata": {},
   "outputs": [
    {
     "name": "stdout",
     "output_type": "stream",
     "text": [
      "<class 'pandas.core.frame.DataFrame'>\n",
      "RangeIndex: 10129 entries, 0 to 10128\n",
      "Data columns (total 20 columns):\n",
      " #   Column                Non-Null Count  Dtype         \n",
      "---  ------                --------------  -----         \n",
      " 0   Date                  10129 non-null  object        \n",
      " 1   Time                  10129 non-null  object        \n",
      " 2   S1_Temp               10129 non-null  float64       \n",
      " 3   S2_Temp               10129 non-null  float64       \n",
      " 4   S3_Temp               10129 non-null  float64       \n",
      " 5   S4_Temp               10129 non-null  float64       \n",
      " 6   S1_Light              10129 non-null  int64         \n",
      " 7   S2_Light              10129 non-null  int64         \n",
      " 8   S3_Light              10129 non-null  int64         \n",
      " 9   S4_Light              10129 non-null  int64         \n",
      " 10  S1_Sound              10129 non-null  float64       \n",
      " 11  S2_Sound              10129 non-null  float64       \n",
      " 12  S3_Sound              10129 non-null  float64       \n",
      " 13  S4_Sound              10129 non-null  float64       \n",
      " 14  S5_CO2                10129 non-null  int64         \n",
      " 15  S5_CO2_Slope          10129 non-null  float64       \n",
      " 16  S6_PIR                10129 non-null  int64         \n",
      " 17  S7_PIR                10129 non-null  int64         \n",
      " 18  Room_Occupancy_Count  10129 non-null  int64         \n",
      " 19  DateTime              10129 non-null  datetime64[ns]\n",
      "dtypes: datetime64[ns](1), float64(9), int64(8), object(2)\n",
      "memory usage: 1.5+ MB\n"
     ]
    }
   ],
   "source": [
    "df.info()"
   ]
  },
  {
   "cell_type": "code",
   "execution_count": 9,
   "id": "56b7ec19",
   "metadata": {},
   "outputs": [],
   "source": [
    "df.drop(columns=['Date','Time'], inplace = True)"
   ]
  },
  {
   "cell_type": "code",
   "execution_count": 10,
   "id": "20b37390",
   "metadata": {},
   "outputs": [
    {
     "data": {
      "text/plain": [
       "Index(['S1_Temp', 'S2_Temp', 'S3_Temp', 'S4_Temp', 'S1_Light', 'S2_Light',\n",
       "       'S3_Light', 'S4_Light', 'S1_Sound', 'S2_Sound', 'S3_Sound', 'S4_Sound',\n",
       "       'S5_CO2', 'S5_CO2_Slope', 'S6_PIR', 'S7_PIR', 'Room_Occupancy_Count',\n",
       "       'DateTime'],\n",
       "      dtype='object')"
      ]
     },
     "execution_count": 10,
     "metadata": {},
     "output_type": "execute_result"
    }
   ],
   "source": [
    "df.columns"
   ]
  },
  {
   "cell_type": "code",
   "execution_count": 11,
   "id": "a2685cfa",
   "metadata": {},
   "outputs": [],
   "source": [
    "X = df.drop(columns = ['Room_Occupancy_Count', 'DateTime'], axis = 1)\n",
    "y = df['Room_Occupancy_Count']"
   ]
  },
  {
   "cell_type": "code",
   "execution_count": 12,
   "id": "b7c4e89d",
   "metadata": {},
   "outputs": [
    {
     "data": {
      "text/plain": [
       "(       S1_Temp  S2_Temp  S3_Temp  S4_Temp  S1_Light  S2_Light  S3_Light  \\\n",
       " 0        24.94    24.75    24.56    25.38       121        34        53   \n",
       " 1        24.94    24.75    24.56    25.44       121        33        53   \n",
       " 2        25.00    24.75    24.50    25.44       121        34        53   \n",
       " 3        25.00    24.75    24.56    25.44       121        34        53   \n",
       " 4        25.00    24.75    24.56    25.44       121        34        54   \n",
       " ...        ...      ...      ...      ...       ...       ...       ...   \n",
       " 10124    25.06    25.13    24.69    25.31         6         7        33   \n",
       " 10125    25.06    25.06    24.69    25.25         6         7        34   \n",
       " 10126    25.13    25.06    24.69    25.25         6         7        34   \n",
       " 10127    25.13    25.06    24.69    25.25         6         7        34   \n",
       " 10128    25.13    25.06    24.69    25.25         6         7        34   \n",
       " \n",
       "        S4_Light  S1_Sound  S2_Sound  S3_Sound  S4_Sound  S5_CO2  S5_CO2_Slope  \\\n",
       " 0            40      0.08      0.19      0.06      0.06     390      0.769231   \n",
       " 1            40      0.93      0.05      0.06      0.06     390      0.646154   \n",
       " 2            40      0.43      0.11      0.08      0.06     390      0.519231   \n",
       " 3            40      0.41      0.10      0.10      0.09     390      0.388462   \n",
       " 4            40      0.18      0.06      0.06      0.06     390      0.253846   \n",
       " ...         ...       ...       ...       ...       ...     ...           ...   \n",
       " 10124        22      0.09      0.04      0.06      0.08     345      0.000000   \n",
       " 10125        22      0.07      0.05      0.05      0.08     345      0.000000   \n",
       " 10126        22      0.11      0.05      0.06      0.08     345      0.000000   \n",
       " 10127        22      0.08      0.08      0.10      0.08     345      0.000000   \n",
       " 10128        22      0.08      0.05      0.06      0.08     345      0.000000   \n",
       " \n",
       "        S6_PIR  S7_PIR  \n",
       " 0           0       0  \n",
       " 1           0       0  \n",
       " 2           0       0  \n",
       " 3           0       0  \n",
       " 4           0       0  \n",
       " ...       ...     ...  \n",
       " 10124       0       0  \n",
       " 10125       0       0  \n",
       " 10126       0       0  \n",
       " 10127       0       0  \n",
       " 10128       0       0  \n",
       " \n",
       " [10129 rows x 16 columns],\n",
       " 0        1\n",
       " 1        1\n",
       " 2        1\n",
       " 3        1\n",
       " 4        1\n",
       "         ..\n",
       " 10124    0\n",
       " 10125    0\n",
       " 10126    0\n",
       " 10127    0\n",
       " 10128    0\n",
       " Name: Room_Occupancy_Count, Length: 10129, dtype: int64)"
      ]
     },
     "execution_count": 12,
     "metadata": {},
     "output_type": "execute_result"
    }
   ],
   "source": [
    "X, y"
   ]
  },
  {
   "cell_type": "code",
   "execution_count": 13,
   "id": "e0122ba3",
   "metadata": {},
   "outputs": [],
   "source": [
    "from sklearn.model_selection import train_test_split\n",
    "X_train, X_test, y_train, y_test = train_test_split(X, y, test_size = 0.25, random_state = 42)"
   ]
  },
  {
   "cell_type": "code",
   "execution_count": 14,
   "id": "80fec5eb",
   "metadata": {},
   "outputs": [
    {
     "name": "stdout",
     "output_type": "stream",
     "text": [
      "      S1_Temp  S2_Temp  S3_Temp  S4_Temp  S1_Light  S2_Light  S3_Light  \\\n",
      "831     26.25    26.56    26.00    26.38       150       236       180   \n",
      "8262    25.81    26.00    25.75    25.94         2         3        13   \n",
      "5304    25.13    25.13    24.56    25.31         7         7        35   \n",
      "2420    25.06    25.06    24.44    25.38         5         5        28   \n",
      "4598    25.31    25.31    24.81    25.63         0         0         0   \n",
      "...       ...      ...      ...      ...       ...       ...       ...   \n",
      "5734    25.31    25.31    25.13    25.88        17        20        75   \n",
      "5191    25.13    25.13    24.56    25.44         5         5        28   \n",
      "5390    25.06    25.06    24.63    25.50         9        10        45   \n",
      "860     26.31    26.69    26.06    26.44       150       236       180   \n",
      "7270    25.31    25.31    24.88    25.75         0         0         0   \n",
      "\n",
      "      S4_Light  S1_Sound  S2_Sound  S3_Sound  S4_Sound  S5_CO2  S5_CO2_Slope  \\\n",
      "831         10      0.45      0.28      1.20      0.32    1085      2.523077   \n",
      "8262        10      0.37      0.92      0.23      0.09     760      1.873077   \n",
      "5304        24      0.07      0.06      0.07      0.10     355     -0.080769   \n",
      "2420        19      0.08      0.05      0.05      0.06     360      0.042308   \n",
      "4598         0      0.06      0.05      0.06      0.06     360      0.000000   \n",
      "...        ...       ...       ...       ...       ...     ...           ...   \n",
      "5734        54      0.07      0.05      0.06      0.09     355      0.000000   \n",
      "5191        19      0.07      0.04      0.06      0.06     360      0.000000   \n",
      "5390        30      0.07      0.04      0.06      0.09     355      0.000000   \n",
      "860         10      1.03      0.27      0.23      0.11    1160      3.165385   \n",
      "7270         0      0.07      0.05      0.06      0.09     355      0.000000   \n",
      "\n",
      "      S6_PIR  S7_PIR  \n",
      "831        1       1  \n",
      "8262       0       0  \n",
      "5304       0       0  \n",
      "2420       0       0  \n",
      "4598       0       0  \n",
      "...      ...     ...  \n",
      "5734       0       0  \n",
      "5191       0       0  \n",
      "5390       0       0  \n",
      "860        0       1  \n",
      "7270       0       0  \n",
      "\n",
      "[7596 rows x 16 columns]\n"
     ]
    }
   ],
   "source": [
    "print(X_train)"
   ]
  },
  {
   "cell_type": "code",
   "execution_count": 15,
   "id": "1876ae45",
   "metadata": {},
   "outputs": [
    {
     "name": "stdout",
     "output_type": "stream",
     "text": [
      "831     3\n",
      "8262    3\n",
      "5304    0\n",
      "2420    0\n",
      "4598    0\n",
      "       ..\n",
      "5734    0\n",
      "5191    0\n",
      "5390    0\n",
      "860     3\n",
      "7270    0\n",
      "Name: Room_Occupancy_Count, Length: 7596, dtype: int64\n"
     ]
    }
   ],
   "source": [
    "print(y_train)"
   ]
  },
  {
   "cell_type": "code",
   "execution_count": 16,
   "id": "fddb52be",
   "metadata": {},
   "outputs": [
    {
     "data": {
      "text/plain": [
       "GaussianNB()"
      ]
     },
     "execution_count": 16,
     "metadata": {},
     "output_type": "execute_result"
    }
   ],
   "source": [
    "from sklearn.naive_bayes import GaussianNB\n",
    "NB_classifier = GaussianNB()\n",
    "NB_classifier.fit(X_train, y_train)"
   ]
  },
  {
   "cell_type": "code",
   "execution_count": 17,
   "id": "81def051",
   "metadata": {},
   "outputs": [],
   "source": [
    "y_pred = NB_classifier.predict(X_test)"
   ]
  },
  {
   "cell_type": "code",
   "execution_count": 18,
   "id": "cfe4227c",
   "metadata": {},
   "outputs": [
    {
     "name": "stdout",
     "output_type": "stream",
     "text": [
      "[[2003    0    0   37]\n",
      " [   0  120    5    0]\n",
      " [   0    0  189   11]\n",
      " [   9    0   38  121]]\n"
     ]
    },
    {
     "data": {
      "text/plain": [
       "0.9605211212001579"
      ]
     },
     "execution_count": 18,
     "metadata": {},
     "output_type": "execute_result"
    }
   ],
   "source": [
    "from sklearn.metrics import confusion_matrix, accuracy_score\n",
    "cm_NB = confusion_matrix(y_test, y_pred)\n",
    "print(cm_NB)\n",
    "accuracy_score(y_test, y_pred)"
   ]
  },
  {
   "cell_type": "markdown",
   "id": "40912590",
   "metadata": {},
   "source": [
    "### We will do the same NB classifier but with a standardized features"
   ]
  },
  {
   "cell_type": "code",
   "execution_count": 19,
   "id": "55a5494f",
   "metadata": {},
   "outputs": [],
   "source": [
    "from sklearn.preprocessing import StandardScaler\n",
    "sc = StandardScaler()\n",
    "X_train_scl = sc.fit_transform(X_train)\n",
    "X_test_scl = sc.transform(X_test)"
   ]
  },
  {
   "cell_type": "code",
   "execution_count": 20,
   "id": "e3b3b4f4",
   "metadata": {},
   "outputs": [
    {
     "data": {
      "text/plain": [
       "GaussianNB()"
      ]
     },
     "execution_count": 20,
     "metadata": {},
     "output_type": "execute_result"
    }
   ],
   "source": [
    "NB_classifier_scl = GaussianNB()\n",
    "NB_classifier_scl.fit(X_train_scl, y_train)"
   ]
  },
  {
   "cell_type": "code",
   "execution_count": 21,
   "id": "4852de06",
   "metadata": {},
   "outputs": [],
   "source": [
    "y_pred_scl = NB_classifier.predict(X_test_scl)"
   ]
  },
  {
   "cell_type": "code",
   "execution_count": 22,
   "id": "a33f2ae8",
   "metadata": {},
   "outputs": [
    {
     "name": "stdout",
     "output_type": "stream",
     "text": [
      "[[   0 2039    0    1]\n",
      " [   0  125    0    0]\n",
      " [   0  193    0    7]\n",
      " [   0  156    0   12]]\n"
     ]
    },
    {
     "data": {
      "text/plain": [
       "0.05408606395578366"
      ]
     },
     "execution_count": 22,
     "metadata": {},
     "output_type": "execute_result"
    }
   ],
   "source": [
    "cm_NB_scl = confusion_matrix(y_test, y_pred_scl)\n",
    "print(cm_NB_scl)\n",
    "accuracy_score(y_test, y_pred_scl)"
   ]
  },
  {
   "cell_type": "markdown",
   "id": "d53973e2",
   "metadata": {},
   "source": [
    "### The result for the standardized features seems extremly bad, Not sure if i missed something"
   ]
  }
 ],
 "metadata": {
  "kernelspec": {
   "display_name": "Python 3 (ipykernel)",
   "language": "python",
   "name": "python3"
  },
  "language_info": {
   "codemirror_mode": {
    "name": "ipython",
    "version": 3
   },
   "file_extension": ".py",
   "mimetype": "text/x-python",
   "name": "python",
   "nbconvert_exporter": "python",
   "pygments_lexer": "ipython3",
   "version": "3.9.7"
  }
 },
 "nbformat": 4,
 "nbformat_minor": 5
}
